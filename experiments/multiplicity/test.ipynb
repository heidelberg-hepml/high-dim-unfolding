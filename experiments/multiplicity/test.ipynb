{
 "cells": [
  {
   "cell_type": "code",
   "execution_count": 6,
   "metadata": {},
   "outputs": [],
   "source": [
    "from dataset import MultiplicityDataset, QGMultiplicityDataset"
   ]
  },
  {
   "cell_type": "code",
   "execution_count": 7,
   "metadata": {},
   "outputs": [],
   "source": [
    "dataset = QGMultiplicityDataset(rescale_data=None)"
   ]
  },
  {
   "cell_type": "code",
   "execution_count": 8,
   "metadata": {},
   "outputs": [],
   "source": [
    "dataset.load_data(filename=\"/Users/antoine/Developer/Heidelberg/high-dim-unfolding/data/zplusjets.h5\", mode=\"train\")"
   ]
  },
  {
   "cell_type": "code",
   "execution_count": 9,
   "metadata": {},
   "outputs": [
    {
     "data": {
      "text/plain": [
       "tensor([0.1000, 0.2000, 0.2000, 0.1000, 0.2000, 0.1000, 0.2000, 0.1000, 0.2000,\n",
       "        0.1000, 0.2000, 0.0000, 0.0000, 0.0000, 0.0000, 0.0000, 0.0000, 0.3000,\n",
       "        0.3000])"
      ]
     },
     "execution_count": 9,
     "metadata": {},
     "output_type": "execute_result"
    }
   ],
   "source": [
    "dataset[0].scalars"
   ]
  },
  {
   "cell_type": "code",
   "execution_count": 10,
   "metadata": {},
   "outputs": [],
   "source": [
    "import torch"
   ]
  },
  {
   "cell_type": "code",
   "execution_count": 11,
   "metadata": {},
   "outputs": [],
   "source": [
    "classes = torch.tensor(range(1,153))"
   ]
  },
  {
   "cell_type": "code",
   "execution_count": 79,
   "metadata": {},
   "outputs": [],
   "source": [
    "logits = torch.rand((10, 10))\n",
    "logp = torch.nn.functional.log_softmax(logits, dim=1)\n",
    "weights = torch.zeros_like(logp)\n",
    "targets = torch.randint(0, 9, (10,))\n",
    "std = 0.5\n",
    "for i in range(10):\n",
    "    weights[i, targets[i]] = 1.0\n",
    "kernel = torch.distributions.Normal(0, std).log_prob(torch.arange(-2, 2+1e-5)).exp()\n",
    "kernel /= kernel.sum()\n",
    "weights = torch.nn.functional.conv1d(\n",
    "    weights.unsqueeze(1), \n",
    "    kernel.view(1, 1, -1),\n",
    "    bias=None,\n",
    "    groups=1,\n",
    "    padding=2\n",
    ").squeeze(1)\n",
    "loss = torch.sum(-logp * weights, dim=1)"
   ]
  },
  {
   "cell_type": "code",
   "execution_count": null,
   "metadata": {},
   "outputs": [],
   "source": []
  }
 ],
 "metadata": {
  "kernelspec": {
   "display_name": "lgatr",
   "language": "python",
   "name": "python3"
  },
  "language_info": {
   "codemirror_mode": {
    "name": "ipython",
    "version": 3
   },
   "file_extension": ".py",
   "mimetype": "text/x-python",
   "name": "python",
   "nbconvert_exporter": "python",
   "pygments_lexer": "ipython3",
   "version": "3.11.8"
  }
 },
 "nbformat": 4,
 "nbformat_minor": 2
}
