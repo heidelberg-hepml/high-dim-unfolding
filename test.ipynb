{
 "cells": [
  {
   "cell_type": "code",
   "execution_count": 24,
   "metadata": {},
   "outputs": [],
   "source": [
    "import torch\n",
    "from experiments.eventgen.transforms import EPPP_to_PtPhiEtaE, PtPhiEtaE_to_PtPhiEtaM2"
   ]
  },
  {
   "cell_type": "code",
   "execution_count": 25,
   "metadata": {},
   "outputs": [],
   "source": [
    "jm = torch.tensor([ 5.6501e+01, -9.4960e-01,  1.6761e+00,  1.0000e-01])"
   ]
  },
  {
   "cell_type": "code",
   "execution_count": 47,
   "metadata": {},
   "outputs": [
    {
     "name": "stdout",
     "output_type": "stream",
     "text": [
      "tensor([56.5010, -0.9496,  1.6761,  0.1000])\n",
      "tensor([ 56.5010,  -0.9496,   1.6761, 156.2757])\n",
      "tensor([56.5010, -0.9496,  1.6761,  0.0996])\n",
      "tensor([156.2757,  32.8841, -45.9456, 145.7039])\n",
      "tensor([ 56.5010,  -0.9496,   1.6761, 156.2757])\n"
     ]
    }
   ],
   "source": [
    "jm = torch.tensor([ 5.6501e+01, -9.4960e-01,  1.6761e+00,  1.0000e-01])\n",
    "print(jm)\n",
    "tm = PtPhiEtaE_to_PtPhiEtaM2().inverse(jm)\n",
    "print(tm)\n",
    "fm = PtPhiEtaE_to_PtPhiEtaM2().forward(tm)\n",
    "print(fm)\n",
    "fm = EPPP_to_PtPhiEtaE().inverse(tm)\n",
    "print(fm)\n",
    "fm = EPPP_to_PtPhiEtaE().forward(fm)\n",
    "print(fm)\n"
   ]
  },
  {
   "cell_type": "code",
   "execution_count": 51,
   "metadata": {},
   "outputs": [
    {
     "name": "stdout",
     "output_type": "stream",
     "text": [
      "tensor([ 56.5010,  -0.9496,   1.6761, 156.2757])\n",
      "tensor([156.2757,  32.8841, -45.9456, 145.7040])\n",
      "tensor([ 56.5010,  -0.9496,   1.6761, 156.2757])\n"
     ]
    }
   ],
   "source": [
    "print(fm)\n",
    "tm = EPPP_to_PtPhiEtaE().inverse(fm)\n",
    "print(tm)\n",
    "jm = EPPP_to_PtPhiEtaE().forward(tm)\n",
    "print(jm)"
   ]
  },
  {
   "cell_type": "code",
   "execution_count": 28,
   "metadata": {},
   "outputs": [
    {
     "name": "stdout",
     "output_type": "stream",
     "text": [
      "tensor(0.3125)\n"
     ]
    }
   ],
   "source": [
    "m2 = fm[..., 0] ** 2 - torch.sum(fm[..., 1:] ** 2, dim=-1)\n",
    "m2 = torch.abs(m2)\n",
    "m = torch.sqrt(m2.clamp(min=1e-6))\n",
    "print(m)"
   ]
  }
 ],
 "metadata": {
  "kernelspec": {
   "display_name": "hdu",
   "language": "python",
   "name": "python3"
  },
  "language_info": {
   "codemirror_mode": {
    "name": "ipython",
    "version": 3
   },
   "file_extension": ".py",
   "mimetype": "text/x-python",
   "name": "python",
   "nbconvert_exporter": "python",
   "pygments_lexer": "ipython3",
   "version": "3.11.8"
  }
 },
 "nbformat": 4,
 "nbformat_minor": 2
}
