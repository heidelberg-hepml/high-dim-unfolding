{
 "cells": [
  {
   "cell_type": "code",
   "execution_count": 438,
   "metadata": {},
   "outputs": [],
   "source": [
    "import energyflow as ef\n",
    "import numpy as np\n",
    "import torch\n",
    "import torch.nn as nn\n",
    "from torch.utils.data import Dataset, DataLoader\n",
    "import torch.nn.functional as F\n",
    "import math\n",
    "from tqdm import tqdm"
   ]
  },
  {
   "cell_type": "code",
   "execution_count": 439,
   "metadata": {},
   "outputs": [
    {
     "name": "stderr",
     "output_type": "stream",
     "text": [
      "<__array_function__ internals>:180: VisibleDeprecationWarning: Creating an ndarray from ragged nested sequences (which is a list-or-tuple of lists-or-tuples-or ndarrays with different lengths or shapes) is deprecated. If you meant to do this, you must specify 'dtype=object' when creating the ndarray.\n"
     ]
    }
   ],
   "source": [
    "data = ef.zjets_delphes.load(\"Herwig\", num_data=10000, pad=False, cache_dir='../data',\n",
    "                                       source='zenodo', which='all',\n",
    "                                       include_keys=None, exclude_keys=None)"
   ]
  },
  {
   "cell_type": "code",
   "execution_count": 440,
   "metadata": {},
   "outputs": [
    {
     "data": {
      "text/plain": [
       "dict_keys(['gen_sdms', 'gen_widths', 'gen_lhas', 'gen_zgs', 'gen_tau2s', 'gen_mults', 'gen_Zs', 'gen_jets', 'gen_particles', 'gen_ang2s', 'sim_sdms', 'sim_widths', 'sim_lhas', 'sim_zgs', 'sim_tau2s', 'sim_mults', 'sim_jets', 'sim_particles', 'sim_ang2s'])"
      ]
     },
     "execution_count": 440,
     "metadata": {},
     "output_type": "execute_result"
    }
   ],
   "source": [
    "data.keys()"
   ]
  },
  {
   "cell_type": "code",
   "execution_count": 441,
   "metadata": {},
   "outputs": [],
   "source": [
    "gen_z = data['gen_Zs']\n",
    "gen_jets = data['gen_jets']\n",
    "sim_jets = data['sim_jets']\n",
    "gen_particles = data['gen_particles']\n",
    "sim_particles = data['sim_particles']"
   ]
  },
  {
   "cell_type": "code",
   "execution_count": 442,
   "metadata": {},
   "outputs": [
    {
     "name": "stdout",
     "output_type": "stream",
     "text": [
      "(10000, 3) (10000, 4) (10000, 4) (10000,) (10000,)\n"
     ]
    }
   ],
   "source": [
    "print(gen_z.shape, gen_jets.shape, sim_jets.shape, gen_particles.shape, sim_particles.shape)\n"
   ]
  },
  {
   "cell_type": "code",
   "execution_count": 443,
   "metadata": {},
   "outputs": [
    {
     "name": "stdout",
     "output_type": "stream",
     "text": [
      "Min particles per event: 2\n",
      "Max particles per event: 88\n",
      "Mean particles per event: 27.31\n"
     ]
    }
   ],
   "source": [
    "gen_lengths = [len(event) for event in gen_particles]\n",
    "print(f\"Min particles per event: {min(gen_lengths)}\")\n",
    "print(f\"Max particles per event: {max(gen_lengths)}\")\n",
    "print(f\"Mean particles per event: {sum(gen_lengths)/len(gen_lengths)}\")\n"
   ]
  },
  {
   "cell_type": "code",
   "execution_count": 444,
   "metadata": {},
   "outputs": [
    {
     "name": "stdout",
     "output_type": "stream",
     "text": [
      "Min particles per event: 1\n",
      "Max particles per event: 68\n",
      "Mean particles per event: 19.8387\n"
     ]
    }
   ],
   "source": [
    "sim_lengths = [len(event) for event in sim_particles]\n",
    "print(f\"Min particles per event: {min(sim_lengths)}\")\n",
    "print(f\"Max particles per event: {max(sim_lengths)}\")\n",
    "print(f\"Mean particles per event: {sum(sim_lengths)/len(sim_lengths)}\")\n"
   ]
  },
  {
   "cell_type": "code",
   "execution_count": 445,
   "metadata": {},
   "outputs": [
    {
     "name": "stdout",
     "output_type": "stream",
     "text": [
      "Particles ID in first gen event: [0.9 0.2 1.  0.2 0.2 0.1 0.1 0.3 0.  0.  0.1 0.2 0.  0.  0.1 0.3 0.  0.\n",
      " 0.1 0.2 0.  0.1 0.2 0.  0. ]\n",
      "Particles ID in first sim event: [0.1 0.2 0.2 0.1 0.2 0.1 0.2 0.1 0.2 0.1 0.2 0.  0.  0.  0.  0.  0.  0.3\n",
      " 0.3]\n"
     ]
    }
   ],
   "source": [
    "print('Particles ID in first gen event:', gen_particles[0][:, -1])\n",
    "print('Particles ID in first sim event:', sim_particles[0][:, -1])"
   ]
  },
  {
   "cell_type": "code",
   "execution_count": 446,
   "metadata": {},
   "outputs": [],
   "source": [
    "pid_to_float = {\n",
    "    22: 0.0,    # photon\n",
    "    211: 0.1,   # pi+\n",
    "    -211: 0.2,  # pi-\n",
    "    130: 0.3,   # K0_L\n",
    "    11: 0.4,    # e-\n",
    "    -11: 0.5,   # e+\n",
    "    13: 0.6,    # mu-\n",
    "    -13: 0.7,   # mu+\n",
    "    321: 0.8,   # K+\n",
    "    -321: 0.9,  # K-\n",
    "    2212: 1.0,  # proton\n",
    "    -2212: 1.1, # anti-proton\n",
    "    2112: 1.2,  # neutron\n",
    "    -2112: 1.3  # anti-neutron\n",
    "}\n",
    "\n",
    "pid_to_name = {\n",
    "    22: \"gamma\",\n",
    "    211: \"pi^+\",\n",
    "    -211: \"pi^-\",\n",
    "    130: \"K_0^L\",\n",
    "    11: \"e^-\",\n",
    "    -11: \"e^+\",\n",
    "    13: \"mu^-\",\n",
    "    -13: \"mu^+\",\n",
    "    321: \"K^+\",\n",
    "    -321: \"K^-\",\n",
    "    2212: \"p\",\n",
    "    -2212: \"anti-p\",\n",
    "    2112: \"n\",\n",
    "    -2112: \"anti-n\"\n",
    "}\n",
    "\n",
    "float_to_pid = {v: k for k, v in pid_to_float.items()}\n",
    "\n",
    "def map_pid_to_float(pid):\n",
    "    \"\"\"Convert particle ID to float representation\"\"\"\n",
    "    try:\n",
    "        float_id = pid_to_float[pid]\n",
    "    except KeyError:\n",
    "        print(f\"Unknown particle ID: {pid}\")\n",
    "        float_id = -1.0\n",
    "    return float_id\n",
    "\n",
    "def map_float_to_pid(float_val):\n",
    "    \"\"\"Convert float representation back to particle ID\"\"\"\n",
    "    # Round to nearest 0.1\n",
    "    rounded = round(float_val * 10) / 10\n",
    "    try:\n",
    "        pid = float_to_pid[rounded]\n",
    "    except KeyError:\n",
    "        print(f\"Unknown float value: {float_val}\")\n",
    "        pid = 0\n",
    "    return pid\n"
   ]
  },
  {
   "cell_type": "code",
   "execution_count": 447,
   "metadata": {},
   "outputs": [
    {
     "name": "stdout",
     "output_type": "stream",
     "text": [
      "\n",
      "Particle counts in first generated event:\n",
      "PDG ID 22, corresponding to gamma: 9 particles\n",
      "PDG ID 211, corresponding to pi^+: 6 particles\n",
      "PDG ID -211, corresponding to pi^-: 6 particles\n",
      "PDG ID 130, corresponding to K_0^L: 2 particles\n",
      "PDG ID -321, corresponding to K^-: 1 particles\n",
      "PDG ID 2212, corresponding to p: 1 particles\n",
      "\n",
      "Particle counts in first simulated event:\n",
      "PDG ID 22, corresponding to gamma: 6 particles\n",
      "PDG ID 211, corresponding to pi^+: 5 particles\n",
      "PDG ID -211, corresponding to pi^-: 6 particles\n",
      "PDG ID 130, corresponding to K_0^L: 2 particles\n"
     ]
    }
   ],
   "source": [
    "# Count particle types in first gen event\n",
    "gen_unique, gen_counts = np.unique(gen_particles[0][:, -1], return_counts=True)\n",
    "print(\"\\nParticle counts in first generated event:\")\n",
    "for pid, count in zip(gen_unique, gen_counts):\n",
    "    print(f\"PDG ID {map_float_to_pid(pid)}, corresponding to {pid_to_name[map_float_to_pid(pid)]}: {count} particles\")\n",
    "\n",
    "# Count particle types in first sim event\n",
    "sim_unique, sim_counts = np.unique(sim_particles[0][:, -1], return_counts=True)\n",
    "print(\"\\nParticle counts in first simulated event:\")\n",
    "for pid, count in zip(sim_unique, sim_counts):\n",
    "    print(f\"PDG ID {map_float_to_pid(pid)}, corresponding to {pid_to_name[map_float_to_pid(pid)]}: {count} particles\")"
   ]
  },
  {
   "cell_type": "code",
   "execution_count": 448,
   "metadata": {},
   "outputs": [
    {
     "data": {
      "image/png": "[encoded data removed]",
      "text/plain": [
       "<Figure size 2000x1000 with 2 Axes>"
      ]
     },
     "metadata": {},
     "output_type": "display_data"
    }
   ],
   "source": [
    "import matplotlib.pyplot as plt\n",
    "\n",
    "# Extract data for first event - generated\n",
    "first_gen_Z = gen_z[0]\n",
    "first_gen_jet = gen_jets[0]\n",
    "scaled_first_gen_particles = gen_particles[0]\n",
    "first_gen_particles = np.zeros_like(scaled_first_gen_particles)\n",
    "first_gen_particles[:, 0] = 100 * scaled_first_gen_particles[:, 0]\n",
    "first_gen_particles[:, 1:3] = scaled_first_gen_particles[:, 1:3] + np.broadcast_to(first_gen_jet[np.newaxis, 1:3], scaled_first_gen_particles[:, 1:3].shape)\n",
    "\n",
    "# Extract data for first event - simulated \n",
    "first_sim_jet = sim_jets[0]\n",
    "first_sim_particles = sim_particles[0]\n",
    "first_sim_particles[:, 0] = 100 * first_sim_particles[:, 0]\n",
    "first_sim_particles[:, 1:3] = first_sim_particles[:, 1:3] + np.broadcast_to(first_sim_jet[np.newaxis, 1:3], first_sim_particles[:, 1:3].shape)\n",
    "\n",
    "# Create figure with two subplots\n",
    "fig, (ax1, ax2) = plt.subplots(1, 2, figsize=(20, 10))\n",
    "\n",
    "# Plot generated event\n",
    "ax1.scatter(first_gen_Z[1], first_gen_Z[2],\n",
    "           color='red', label='Z boson', s=100)\n",
    "ax1.scatter(first_gen_jet[1], first_gen_jet[2],\n",
    "           color='blue', label='Jet', s=100)\n",
    "ax1.scatter(first_gen_particles[:,1], first_gen_particles[:,2],\n",
    "           color='green', alpha=0.3, label='Particles', s=50)\n",
    "ax1.set_xlabel('Rapidity η')\n",
    "ax1.set_ylabel('Azimuthal Angle φ')\n",
    "ax1.set_title('Generated Event: Particle Distribution in η-φ Plane')\n",
    "ax1.grid(True)\n",
    "ax1.legend()\n",
    "\n",
    "# Plot simulated event\n",
    "ax2.scatter(first_gen_Z[1], first_gen_Z[2],\n",
    "           color='red', label='Z boson', s=100)\n",
    "ax2.scatter(first_sim_jet[1], first_sim_jet[2],\n",
    "           color='blue', label='Jet', s=100)\n",
    "ax2.scatter(first_sim_particles[:,1], first_sim_particles[:,2],\n",
    "           color='green', alpha=0.3, label='Particles', s=50)\n",
    "ax2.set_xlabel('Rapidity η')\n",
    "ax2.set_ylabel('Azimuthal Angle φ')\n",
    "ax2.set_title('Simulated Event: Particle Distribution in η-φ Plane')\n",
    "ax2.grid(True)\n",
    "ax2.legend()\n",
    "\n",
    "plt.tight_layout()\n",
    "plt.show()"
   ]
  },
  {
   "cell_type": "code",
   "execution_count": 449,
   "metadata": {},
   "outputs": [],
   "source": [
    "MAX_SEQ_LENGTH = 100"
   ]
  },
  {
   "cell_type": "code",
   "execution_count": 450,
   "metadata": {},
   "outputs": [],
   "source": [
    "class PositionalEncoding(nn.Module):\n",
    "    def __init__(self, d_model, max_len):\n",
    "        super().__init__()\n",
    "        position = torch.arange(max_len).unsqueeze(1)\n",
    "        div_term = torch.exp(torch.arange(0, d_model, 2) * (-math.log(10000.0) / d_model))\n",
    "        pe = torch.zeros(max_len, 1, d_model)\n",
    "        pe[:, 0, 0::2] = torch.sin(position * div_term)\n",
    "        pe[:, 0, 1::2] = torch.cos(position * div_term)\n",
    "        self.register_buffer('pe', pe)\n",
    "\n",
    "    def forward(self, x):\n",
    "        return x + self.pe[:x.size(0)]"
   ]
  },
  {
   "cell_type": "code",
   "execution_count": 451,
   "metadata": {},
   "outputs": [],
   "source": [
    "class ParticleTransformer(nn.Module):\n",
    "    def __init__(\n",
    "        self,\n",
    "        d_model=256,\n",
    "        nhead=8,\n",
    "        num_layers=6,\n",
    "        dim_feedforward=1024,\n",
    "        dropout=0.1,\n",
    "        max_seq_length=MAX_SEQ_LENGTH\n",
    "    ):\n",
    "        super().__init__()\n",
    "        \n",
    "        # Regular feature dimension (pT, eta, phi, pid) + stop token\n",
    "        self.feature_dim = 4\n",
    "        self.stop_token = torch.zeros(self.feature_dim)\n",
    "        self.stop_token[-1] = -1.0  # Special value for stop token\n",
    "        \n",
    "        # Embeddings and transformer layers\n",
    "        self.particle_embedding = nn.Linear(self.feature_dim, d_model)\n",
    "        self.pos_encoding = PositionalEncoding(d_model, max_seq_length)\n",
    "        decoder_layer = nn.TransformerDecoderLayer(\n",
    "            d_model=d_model,\n",
    "            nhead=nhead,\n",
    "            dim_feedforward=dim_feedforward,\n",
    "            dropout=dropout\n",
    "        )\n",
    "        self.transformer_decoder = nn.TransformerDecoder(\n",
    "            decoder_layer,\n",
    "            num_layers=num_layers\n",
    "        )\n",
    "        self.final_head = nn.Linear(d_model, self.feature_dim)\n",
    "        \n",
    "    def forward(self, sim_seq, gen_seq, tgt_mask):\n",
    "        # Training forward pass (teacher forcing)\n",
    "        sim_embedded = self.particle_embedding(sim_seq)\n",
    "        gen_embedded = self.particle_embedding(gen_seq)\n",
    "        \n",
    "        sim_embedded = self.pos_encoding(sim_embedded)\n",
    "        gen_embedded = self.pos_encoding(gen_embedded)\n",
    "        \n",
    "        decoded = self.transformer_decoder(\n",
    "            gen_embedded.transpose(0, 1),\n",
    "            sim_embedded.transpose(0, 1),\n",
    "            tgt_mask=tgt_mask\n",
    "        ).transpose(0, 1)\n",
    "        \n",
    "        return self.final_head(decoded)\n",
    "    \n",
    "    @torch.no_grad()\n",
    "    def generate(self, sim_seq, max_length=None):\n",
    "        \"\"\"\n",
    "        Generate a sequence of particles autoregressively until stop token or max_length\n",
    "        \"\"\"\n",
    "        if max_length is None:\n",
    "            max_length = MAX_SEQ_LENGTH\n",
    "            \n",
    "        batch_size = sim_seq.size(0)\n",
    "        device = sim_seq.device\n",
    "        \n",
    "        # Initialize with first particle prediction\n",
    "        current_seq = torch.zeros(batch_size, 1, self.feature_dim).to(device)\n",
    "        \n",
    "        # Generate particles one at a time\n",
    "        for i in range(max_length - 1):  # -1 to leave room for stop token\n",
    "            # Create mask for current sequence\n",
    "            tgt_mask = generate_square_subsequent_mask(current_seq.size(1)).to(device)\n",
    "            \n",
    "            # Get next particle prediction\n",
    "            sim_embedded = self.particle_embedding(sim_seq)\n",
    "            current_embedded = self.particle_embedding(current_seq)\n",
    "            \n",
    "            sim_embedded = self.pos_encoding(sim_embedded)\n",
    "            current_embedded = self.pos_encoding(current_embedded)\n",
    "            \n",
    "            decoded = self.transformer_decoder(\n",
    "                current_embedded.transpose(0, 1),\n",
    "                sim_embedded.transpose(0, 1),\n",
    "                tgt_mask=tgt_mask\n",
    "            ).transpose(0, 1)\n",
    "            \n",
    "            next_particle = self.final_head(decoded[:, -1:, :])\n",
    "            \n",
    "            # Check if stop token is predicted\n",
    "            is_stop = (next_particle[:, :, -1] < -0.5).any(dim=1)\n",
    "            if is_stop.any():\n",
    "                break\n",
    "                \n",
    "            # Add predicted particle to sequence\n",
    "            current_seq = torch.cat([current_seq, next_particle], dim=1)\n",
    "        \n",
    "        # Add stop token\n",
    "        stop_token = self.stop_token.to(device).view(1, 1, -1).repeat(batch_size, 1, 1)\n",
    "        current_seq = torch.cat([current_seq, stop_token], dim=1)\n",
    "        \n",
    "        return current_seq"
   ]
  },
  {
   "cell_type": "code",
   "execution_count": 452,
   "metadata": {},
   "outputs": [],
   "source": [
    "class ParticleDataset(Dataset):\n",
    "    def __init__(self, sim_particles, gen_particles, max_length=MAX_SEQ_LENGTH):\n",
    "        self.sim_particles = sim_particles\n",
    "        self.gen_particles = gen_particles\n",
    "        self.max_length = max_length\n",
    "        self.stop_token = torch.zeros(4)\n",
    "        self.stop_token[-1] = -1.0  # Special value for stop token\n",
    "        \n",
    "    def pad_sequence(self, sequence, length):\n",
    "        \"\"\"Pad sequence to max_length with stop token followed by zeros\"\"\"\n",
    "        if length >= self.max_length:\n",
    "            # Truncate if longer than max_length and add stop token\n",
    "            padded = sequence[:self.max_length-1]\n",
    "            padded = np.vstack((padded, self.stop_token.numpy()))\n",
    "            return padded\n",
    "        else:\n",
    "            # Add stop token and zero padding\n",
    "            padded = np.vstack((sequence, self.stop_token.numpy()))\n",
    "            padding = np.zeros((self.max_length - length - 1, sequence.shape[1]))\n",
    "            return np.vstack((padded, padding))\n",
    "    \n",
    "    def __getitem__(self, idx):\n",
    "        # Get particles for this event\n",
    "        sim = self.sim_particles[idx]\n",
    "        gen = self.gen_particles[idx]\n",
    "        \n",
    "        # Store original lengths\n",
    "        sim_length = len(sim)\n",
    "        gen_length = len(gen)\n",
    "        \n",
    "        # Pad sequences\n",
    "        sim_padded = self.pad_sequence(sim, sim_length)\n",
    "        gen_padded = self.pad_sequence(gen, gen_length)\n",
    "        \n",
    "        return {\n",
    "            'sim_features': torch.FloatTensor(sim_padded),\n",
    "            'gen_features': torch.FloatTensor(gen_padded),\n",
    "            'sim_length': min(sim_length + 1, self.max_length),  # +1 for stop token\n",
    "            'gen_length': min(gen_length + 1, self.max_length)   # +1 for stop token\n",
    "        }\n",
    "    \n",
    "    def __len__(self):\n",
    "        return len(self.sim_particles)\n"
   ]
  },
  {
   "cell_type": "code",
   "execution_count": 453,
   "metadata": {},
   "outputs": [],
   "source": [
    "def generate_square_subsequent_mask(sz):\n",
    "    \"\"\"Generate a square mask for the sequence. The masked positions are filled with float('-inf').\n",
    "    Unmasked positions are filled with float(0.0).\n",
    "    \"\"\"\n",
    "    mask = (torch.triu(torch.ones(sz, sz)) == 1).transpose(0, 1)\n",
    "    mask = mask.float().masked_fill(mask == 0, float('-inf')).masked_fill(mask == 1, float(0.0))\n",
    "    return mask"
   ]
  },
  {
   "cell_type": "code",
   "execution_count": 454,
   "metadata": {},
   "outputs": [],
   "source": [
    "def compute_loss(pred, target, target_lengths):\n",
    "    \"\"\"\n",
    "    Compute loss while handling sequences of different lengths\n",
    "    \n",
    "    Args:\n",
    "        pred: Model predictions [batch_size, pred_seq_len, feature_dim]\n",
    "        target: Target values [batch_size, target_seq_len, feature_dim]\n",
    "        target_lengths: Target sequence lengths including stop token [batch_size]\n",
    "    \"\"\"\n",
    "    batch_size = pred.size(0)\n",
    "    device = pred.device\n",
    "    \n",
    "    total_loss = 0\n",
    "    for i in range(batch_size):\n",
    "        # Find actual lengths (up to stop token) for both sequences\n",
    "        pred_stop_pos = (pred[i, :, -1] < -0.5).nonzero()\n",
    "        pred_length = pred_stop_pos[0].item() + 1 if len(pred_stop_pos) > 0 else pred.size(1)\n",
    "        target_length = target_lengths[i].item()\n",
    "        \n",
    "        # Get sequences up to their respective lengths\n",
    "        pred_seq = pred[i, :pred_length]\n",
    "        target_seq = target[i, :target_length]\n",
    "        \n",
    "        # Compute length penalty (encourage correct sequence length)\n",
    "        # length_diff = abs(pred_length - target_length)\n",
    "        # length_penalty = length_diff * 0.1  # Adjustable weight\n",
    "        \n",
    "        # Compute content loss on the overlapping part\n",
    "        min_length = min(pred_length, target_length)\n",
    "        content_loss = F.mse_loss(\n",
    "            pred_seq[:min_length], \n",
    "            target_seq[:min_length],\n",
    "            reduction='mean'\n",
    "        )\n",
    "        \n",
    "        # If prediction is longer, add loss for extra particles\n",
    "        if pred_length > target_length:\n",
    "            extra_loss = torch.mean(pred_seq[target_length:pred_length].pow(2))\n",
    "            content_loss = content_loss + extra_loss  # Adjustable weight\n",
    "        \n",
    "        # Combine losses\n",
    "        total_loss += content_loss #+ length_penalty\n",
    "    \n",
    "    return total_loss / batch_size"
   ]
  },
  {
   "cell_type": "code",
   "execution_count": 455,
   "metadata": {},
   "outputs": [
    {
     "name": "stdout",
     "output_type": "stream",
     "text": [
      "Using device: cpu\n"
     ]
    },
    {
     "name": "stderr",
     "output_type": "stream",
     "text": [
      "Epoch 1/100 [Train]:  59%|█████▉    | 148/250 [02:09<01:26,  1.18it/s, loss=0.0078][E thread_pool.cpp:130] Exception in thread pool task: mutex lock failed: Invalid argument\n",
      "[E thread_pool.cpp:130] Exception in thread pool task: mutex lock failed: Invalid argument\n",
      "[E thread_pool.cpp:130] Exception in thread pool task: mutex lock failed: Invalid argument\n",
      "[E thread_pool.cpp:130] Exception in thread pool task: mutex lock failed: Invalid argument\n",
      "Epoch 1/100 [Train]:  59%|█████▉    | 148/250 [02:10<01:29,  1.14it/s, loss=0.0078]"
     ]
    },
    {
     "name": "stdout",
     "output_type": "stream",
     "text": [
      "\n",
      "Training interrupted by user\n"
     ]
    },
    {
     "name": "stderr",
     "output_type": "stream",
     "text": [
      "\n"
     ]
    },
    {
     "ename": "KeyError",
     "evalue": "'epoch'",
     "output_type": "error",
     "traceback": [
      "\u001b[0;31m---------------------------------------------------------------------------\u001b[0m",
      "\u001b[0;31mKeyError\u001b[0m                                  Traceback (most recent call last)",
      "File \u001b[0;32m/opt/homebrew/Caskroom/miniconda/base/envs/lgatr/lib/python3.11/site-packages/pandas/core/indexes/base.py:3803\u001b[0m, in \u001b[0;36mIndex.get_loc\u001b[0;34m(self, key, method, tolerance)\u001b[0m\n\u001b[1;32m   3802\u001b[0m \u001b[38;5;28;01mtry\u001b[39;00m:\n\u001b[0;32m-> 3803\u001b[0m     \u001b[38;5;28;01mreturn\u001b[39;00m \u001b[38;5;28;43mself\u001b[39;49m\u001b[38;5;241;43m.\u001b[39;49m\u001b[43m_engine\u001b[49m\u001b[38;5;241;43m.\u001b[39;49m\u001b[43mget_loc\u001b[49m\u001b[43m(\u001b[49m\u001b[43mcasted_key\u001b[49m\u001b[43m)\u001b[49m\n\u001b[1;32m   3804\u001b[0m \u001b[38;5;28;01mexcept\u001b[39;00m \u001b[38;5;167;01mKeyError\u001b[39;00m \u001b[38;5;28;01mas\u001b[39;00m err:\n",
      "File \u001b[0;32m/opt/homebrew/Caskroom/miniconda/base/envs/lgatr/lib/python3.11/site-packages/pandas/_libs/index.pyx:138\u001b[0m, in \u001b[0;36mpandas._libs.index.IndexEngine.get_loc\u001b[0;34m()\u001b[0m\n",
      "File \u001b[0;32m/opt/homebrew/Caskroom/miniconda/base/envs/lgatr/lib/python3.11/site-packages/pandas/_libs/index.pyx:165\u001b[0m, in \u001b[0;36mpandas._libs.index.IndexEngine.get_loc\u001b[0;34m()\u001b[0m\n",
      "File \u001b[0;32mpandas/_libs/hashtable_class_helper.pxi:5745\u001b[0m, in \u001b[0;36mpandas._libs.hashtable.PyObjectHashTable.get_item\u001b[0;34m()\u001b[0m\n",
      "File \u001b[0;32mpandas/_libs/hashtable_class_helper.pxi:5753\u001b[0m, in \u001b[0;36mpandas._libs.hashtable.PyObjectHashTable.get_item\u001b[0;34m()\u001b[0m\n",
      "\u001b[0;31mKeyError\u001b[0m: 'epoch'",
      "\nThe above exception was the direct cause of the following exception:\n",
      "\u001b[0;31mKeyError\u001b[0m                                  Traceback (most recent call last)",
      "Cell \u001b[0;32mIn[455], line 157\u001b[0m\n\u001b[1;32m    155\u001b[0m \u001b[38;5;28;01mimport\u001b[39;00m \u001b[38;5;21;01mmatplotlib\u001b[39;00m\u001b[38;5;21;01m.\u001b[39;00m\u001b[38;5;21;01mpyplot\u001b[39;00m \u001b[38;5;28;01mas\u001b[39;00m \u001b[38;5;21;01mplt\u001b[39;00m\n\u001b[1;32m    156\u001b[0m plt\u001b[38;5;241m.\u001b[39mfigure(figsize\u001b[38;5;241m=\u001b[39m(\u001b[38;5;241m10\u001b[39m, \u001b[38;5;241m6\u001b[39m))\n\u001b[0;32m--> 157\u001b[0m plt\u001b[38;5;241m.\u001b[39mplot(\u001b[43mstats_df\u001b[49m\u001b[43m[\u001b[49m\u001b[38;5;124;43m'\u001b[39;49m\u001b[38;5;124;43mepoch\u001b[39;49m\u001b[38;5;124;43m'\u001b[39;49m\u001b[43m]\u001b[49m, stats_df[\u001b[38;5;124m'\u001b[39m\u001b[38;5;124mtrain_loss\u001b[39m\u001b[38;5;124m'\u001b[39m], label\u001b[38;5;241m=\u001b[39m\u001b[38;5;124m'\u001b[39m\u001b[38;5;124mTrain Loss\u001b[39m\u001b[38;5;124m'\u001b[39m)\n\u001b[1;32m    158\u001b[0m plt\u001b[38;5;241m.\u001b[39mplot(stats_df[\u001b[38;5;124m'\u001b[39m\u001b[38;5;124mepoch\u001b[39m\u001b[38;5;124m'\u001b[39m], stats_df[\u001b[38;5;124m'\u001b[39m\u001b[38;5;124mval_loss\u001b[39m\u001b[38;5;124m'\u001b[39m], label\u001b[38;5;241m=\u001b[39m\u001b[38;5;124m'\u001b[39m\u001b[38;5;124mValidation Loss\u001b[39m\u001b[38;5;124m'\u001b[39m)\n\u001b[1;32m    159\u001b[0m plt\u001b[38;5;241m.\u001b[39mplot(stats_df[\u001b[38;5;124m'\u001b[39m\u001b[38;5;124mepoch\u001b[39m\u001b[38;5;124m'\u001b[39m], stats_df[\u001b[38;5;124m'\u001b[39m\u001b[38;5;124mgeneration_loss\u001b[39m\u001b[38;5;124m'\u001b[39m], label\u001b[38;5;241m=\u001b[39m\u001b[38;5;124m'\u001b[39m\u001b[38;5;124mGeneration Loss\u001b[39m\u001b[38;5;124m'\u001b[39m)\n",
      "File \u001b[0;32m/opt/homebrew/Caskroom/miniconda/base/envs/lgatr/lib/python3.11/site-packages/pandas/core/frame.py:3804\u001b[0m, in \u001b[0;36mDataFrame.__getitem__\u001b[0;34m(self, key)\u001b[0m\n\u001b[1;32m   3802\u001b[0m \u001b[38;5;28;01mif\u001b[39;00m \u001b[38;5;28mself\u001b[39m\u001b[38;5;241m.\u001b[39mcolumns\u001b[38;5;241m.\u001b[39mnlevels \u001b[38;5;241m>\u001b[39m \u001b[38;5;241m1\u001b[39m:\n\u001b[1;32m   3803\u001b[0m     \u001b[38;5;28;01mreturn\u001b[39;00m \u001b[38;5;28mself\u001b[39m\u001b[38;5;241m.\u001b[39m_getitem_multilevel(key)\n\u001b[0;32m-> 3804\u001b[0m indexer \u001b[38;5;241m=\u001b[39m \u001b[38;5;28;43mself\u001b[39;49m\u001b[38;5;241;43m.\u001b[39;49m\u001b[43mcolumns\u001b[49m\u001b[38;5;241;43m.\u001b[39;49m\u001b[43mget_loc\u001b[49m\u001b[43m(\u001b[49m\u001b[43mkey\u001b[49m\u001b[43m)\u001b[49m\n\u001b[1;32m   3805\u001b[0m \u001b[38;5;28;01mif\u001b[39;00m is_integer(indexer):\n\u001b[1;32m   3806\u001b[0m     indexer \u001b[38;5;241m=\u001b[39m [indexer]\n",
      "File \u001b[0;32m/opt/homebrew/Caskroom/miniconda/base/envs/lgatr/lib/python3.11/site-packages/pandas/core/indexes/base.py:3805\u001b[0m, in \u001b[0;36mIndex.get_loc\u001b[0;34m(self, key, method, tolerance)\u001b[0m\n\u001b[1;32m   3803\u001b[0m     \u001b[38;5;28;01mreturn\u001b[39;00m \u001b[38;5;28mself\u001b[39m\u001b[38;5;241m.\u001b[39m_engine\u001b[38;5;241m.\u001b[39mget_loc(casted_key)\n\u001b[1;32m   3804\u001b[0m \u001b[38;5;28;01mexcept\u001b[39;00m \u001b[38;5;167;01mKeyError\u001b[39;00m \u001b[38;5;28;01mas\u001b[39;00m err:\n\u001b[0;32m-> 3805\u001b[0m     \u001b[38;5;28;01mraise\u001b[39;00m \u001b[38;5;167;01mKeyError\u001b[39;00m(key) \u001b[38;5;28;01mfrom\u001b[39;00m \u001b[38;5;21;01merr\u001b[39;00m\n\u001b[1;32m   3806\u001b[0m \u001b[38;5;28;01mexcept\u001b[39;00m \u001b[38;5;167;01mTypeError\u001b[39;00m:\n\u001b[1;32m   3807\u001b[0m     \u001b[38;5;66;03m# If we have a listlike key, _check_indexing_error will raise\u001b[39;00m\n\u001b[1;32m   3808\u001b[0m     \u001b[38;5;66;03m#  InvalidIndexError. Otherwise we fall through and re-raise\u001b[39;00m\n\u001b[1;32m   3809\u001b[0m     \u001b[38;5;66;03m#  the TypeError.\u001b[39;00m\n\u001b[1;32m   3810\u001b[0m     \u001b[38;5;28mself\u001b[39m\u001b[38;5;241m.\u001b[39m_check_indexing_error(key)\n",
      "\u001b[0;31mKeyError\u001b[0m: 'epoch'"
     ]
    },
    {
     "data": {
      "text/plain": [
       "<Figure size 1000x600 with 0 Axes>"
      ]
     },
     "metadata": {},
     "output_type": "display_data"
    }
   ],
   "source": [
    "# 1. Prepare the data\n",
    "# Convert particle IDs to float values\n",
    "processed_gen_particles = data['gen_particles']\n",
    "processed_sim_particles = data['sim_particles']\n",
    "\n",
    "# 2. Create train/validation split\n",
    "num_events = len(processed_gen_particles)\n",
    "train_size = int(0.8 * num_events)\n",
    "indices = np.random.permutation(num_events)\n",
    "\n",
    "train_indices = indices[:train_size]\n",
    "val_indices = indices[train_size:]\n",
    "\n",
    "train_gen = [processed_gen_particles[i] for i in train_indices]\n",
    "train_sim = [processed_sim_particles[i] for i in train_indices]\n",
    "val_gen = [processed_gen_particles[i] for i in val_indices]\n",
    "val_sim = [processed_sim_particles[i] for i in val_indices]\n",
    "\n",
    "# 3. Create datasets and dataloaders\n",
    "train_dataset = ParticleDataset(train_sim, train_gen)\n",
    "val_dataset = ParticleDataset(val_sim, val_gen)\n",
    "\n",
    "batch_size = 32\n",
    "train_loader = DataLoader(train_dataset, batch_size=batch_size, shuffle=True, num_workers=0)\n",
    "val_loader = DataLoader(val_dataset, batch_size=batch_size, shuffle=False, num_workers=0)\n",
    "\n",
    "# 4. Initialize model and move to GPU if available\n",
    "device = torch.device('cuda' if torch.cuda.is_available() else 'cpu')\n",
    "print(f\"Using device: {device}\")\n",
    "\n",
    "model = ParticleTransformer(\n",
    "    d_model=256,\n",
    "    nhead=8,\n",
    "    num_layers=6,\n",
    "    dim_feedforward=1024,\n",
    "    dropout=0.1,\n",
    "    max_seq_length=MAX_SEQ_LENGTH\n",
    ")\n",
    "\n",
    "# 5. Training configuration\n",
    "num_epochs = 100\n",
    "early_stopping_patience = 10\n",
    "best_val_loss = float('inf')\n",
    "patience_counter = 0\n",
    "\n",
    "\n",
    "optimizer = torch.optim.Adam(model.parameters(), lr=1e-4)\n",
    "scheduler = torch.optim.lr_scheduler.ReduceLROnPlateau(\n",
    "    optimizer,\n",
    "    mode='min',\n",
    "    factor=0.5,\n",
    "    patience=5,\n",
    "    min_lr=1e-6\n",
    ")\n",
    "\n",
    "\n",
    "training_stats = []\n",
    "\n",
    "try:\n",
    "    for epoch in range(num_epochs):\n",
    "        epoch_stats = {'epoch': epoch + 1}\n",
    "        \n",
    "        # Training phase\n",
    "        model.train()\n",
    "        train_losses = []\n",
    "        \n",
    "        with tqdm(train_loader, desc=f'Epoch {epoch+1}/{num_epochs} [Train]') as train_pbar:\n",
    "            for batch in train_pbar:\n",
    "                # Move data to device\n",
    "                sim_features = batch['sim_features'].to(device)\n",
    "                gen_features = batch['gen_features'].to(device)\n",
    "                gen_lengths = batch['gen_length'].to(device)\n",
    "\n",
    "                tgt_mask = generate_square_subsequent_mask(gen_features.size(1)).to(device)\n",
    "                pred = model(sim_features, gen_features, tgt_mask)\n",
    "\n",
    "                loss = compute_loss(pred, gen_features, gen_lengths)\n",
    "                optimizer.zero_grad()\n",
    "                loss.backward()\n",
    "                torch.nn.utils.clip_grad_norm_(model.parameters(), max_norm=1.0)\n",
    "                optimizer.step()\n",
    "                \n",
    "                train_losses.append(loss.item())\n",
    "                train_pbar.set_postfix({'loss': f'{loss.item():.4f}'})\n",
    "        \n",
    "        # Validation phase\n",
    "        model.eval()\n",
    "        val_losses = []\n",
    "        generation_losses = []\n",
    "        \n",
    "        with torch.no_grad():\n",
    "            with tqdm(val_loader, desc=f'Epoch {epoch+1}/{num_epochs} [Val]') as val_pbar:\n",
    "                for batch in val_pbar:\n",
    "                    sim_features = batch['sim_features'].to(device)\n",
    "                    gen_features = batch['gen_features'].to(device)\n",
    "                    gen_lengths = batch['gen_length'].to(device)\n",
    "                    \n",
    "                    # Teacher forcing validation\n",
    "                    tgt_mask = generate_square_subsequent_mask(gen_features.size(1)).to(device)\n",
    "                    pred = model(sim_features, gen_features, tgt_mask)\n",
    "                    loss = compute_loss(pred, gen_features, gen_lengths)\n",
    "                    val_losses.append(loss.item())\n",
    "                    \n",
    "                    # Generation validation\n",
    "                    generated_seqs = model.generate(sim_features)\n",
    "                    gen_loss = compute_loss(generated_seqs, gen_features, gen_lengths)\n",
    "                    generation_losses.append(gen_loss.item())\n",
    "                    \n",
    "                    val_pbar.set_postfix({'val_loss': f'{loss.item():.4f}', 'gen_loss': f'{gen_loss.item():.4f}'})\n",
    "        \n",
    "        # Calculate epoch statistics\n",
    "        epoch_stats.update({\n",
    "            'train_loss': np.mean(train_losses),\n",
    "            'val_loss': np.mean(val_losses),\n",
    "            'generation_loss': np.mean(generation_losses)\n",
    "        })\n",
    "        training_stats.append(epoch_stats)\n",
    "        \n",
    "        # Print epoch summary\n",
    "        print(f\"\\nEpoch {epoch+1}/{num_epochs} Summary:\")\n",
    "        print(f\"Train Loss: {epoch_stats['train_loss']:.4f}\")\n",
    "        print(f\"Validation Loss: {epoch_stats['val_loss']:.4f}\")\n",
    "        print(f\"Generation Loss: {epoch_stats['generation_loss']:.4f}\")\n",
    "        \n",
    "        # Learning rate scheduling\n",
    "        scheduler.step(epoch_stats['val_loss'])\n",
    "        \n",
    "        # Early stopping check\n",
    "        if epoch_stats['val_loss'] < best_val_loss:\n",
    "            best_val_loss = epoch_stats['val_loss']\n",
    "            patience_counter = 0\n",
    "            # Save best model\n",
    "            torch.save({\n",
    "                'epoch': epoch,\n",
    "                'model_state_dict': model.state_dict(),\n",
    "                'optimizer_state_dict': optimizer.state_dict(),\n",
    "                'val_loss': best_val_loss,\n",
    "            }, 'best_particle_transformer.pt')\n",
    "        else:\n",
    "            patience_counter += 1\n",
    "            if patience_counter >= early_stopping_patience:\n",
    "                print(f\"\\nEarly stopping triggered after {epoch+1} epochs\")\n",
    "                break\n",
    "\n",
    "except KeyboardInterrupt:\n",
    "    print(\"\\nTraining interrupted by user\")\n",
    "\n",
    "finally:\n",
    "    # Save training statistics\n",
    "    import pandas as pd\n",
    "    stats_df = pd.DataFrame(training_stats)\n",
    "    stats_df.to_csv('training_stats.csv', index=False)\n",
    "    \n",
    "    # Plot training curves\n",
    "    import matplotlib.pyplot as plt\n",
    "    plt.figure(figsize=(10, 6))\n",
    "    plt.plot(stats_df['epoch'], stats_df['train_loss'], label='Train Loss')\n",
    "    plt.plot(stats_df['epoch'], stats_df['val_loss'], label='Validation Loss')\n",
    "    plt.plot(stats_df['epoch'], stats_df['generation_loss'], label='Generation Loss')\n",
    "    plt.xlabel('Epoch')\n",
    "    plt.ylabel('Loss')\n",
    "    plt.title('Training History')\n",
    "    plt.legend()\n",
    "    plt.yscale('log')\n",
    "    plt.grid(True)\n",
    "    plt.savefig('training_history.png')\n",
    "    plt.close()"
   ]
  },
  {
   "cell_type": "code",
   "execution_count": 421,
   "metadata": {},
   "outputs": [
    {
     "name": "stdout",
     "output_type": "stream",
     "text": [
      "Loaded best model from epoch 0 with validation loss 0.0007\n"
     ]
    }
   ],
   "source": [
    "# Load best model\n",
    "checkpoint = torch.load('best_particle_transformer.pt')\n",
    "model.load_state_dict(checkpoint['model_state_dict'])\n",
    "print(f\"Loaded best model from epoch {checkpoint['epoch']} with validation loss {checkpoint['val_loss']:.4f}\")"
   ]
  }
 ],
 "metadata": {
  "kernelspec": {
   "display_name": "lgatr",
   "language": "python",
   "name": "python3"
  },
  "language_info": {
   "codemirror_mode": {
    "name": "ipython",
    "version": 3
   },
   "file_extension": ".py",
   "mimetype": "text/x-python",
   "name": "python",
   "nbconvert_exporter": "python",
   "pygments_lexer": "ipython3",
   "version": "3.11.8"
  }
 },
 "nbformat": 4,
 "nbformat_minor": 2
}
