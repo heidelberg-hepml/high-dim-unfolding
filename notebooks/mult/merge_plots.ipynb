{
 "cells": [
  {
   "cell_type": "code",
   "execution_count": 1,
   "metadata": {},
   "outputs": [],
   "source": [
    "import torch\n",
    "import torch.distributions as D\n",
    "import einops\n",
    "import matplotlib.pyplot as plt\n",
    "import matplotlib.colors as mcolors\n",
    "import numpy as np\n",
    "from matplotlib.backends.backend_pdf import PdfPages"
   ]
  },
  {
   "cell_type": "code",
   "execution_count": 2,
   "metadata": {},
   "outputs": [],
   "source": [
    "plt.rcParams[\"font.family\"] = \"serif\"\n",
    "plt.rcParams[\"font.serif\"] = \"Charter\"\n",
    "plt.rcParams[\"text.usetex\"] = True\n",
    "plt.rcParams[\"text.latex.preamble\"] = (\n",
    "    r\"\\usepackage[bitstream-charter]{mathdesign} \\usepackage{amsmath} \\usepackage{siunitx}\"\n",
    ")\n",
    "colors = [\"black\", \"#0343DE\", \"#A52A2A\", \"darkorange\"]\n",
    "FONTSIZE = 18\n",
    "FONTSIZE_LEGEND = FONTSIZE\n",
    "FONTSIZE_TICK = FONTSIZE\n",
    "TICKLABELSIZE = 10"
   ]
  },
  {
   "cell_type": "code",
   "execution_count": 3,
   "metadata": {},
   "outputs": [],
   "source": [
    "class GammaMixture(D.MixtureSameFamily):\n",
    "    def __init__(self, params):\n",
    "        if len(params.shape) == 2:\n",
    "            params = einops.rearrange(\n",
    "                params, \"... (n_mix n_params) -> ... n_mix n_params\", n_params=3\n",
    "            )\n",
    "        self.params = params\n",
    "        mix = D.Categorical(params[..., 2])\n",
    "        gammas = D.Gamma(params[..., 0], params[..., 1])\n",
    "        super().__init__(mix, gammas)\n",
    "\n",
    "    def sample(self, *args, **kwargs):\n",
    "        samples = super().sample(*args, **kwargs)\n",
    "        return torch.round(samples)\n",
    "\n",
    "\n",
    "class CategoricalDistribution(D.Categorical):\n",
    "    def __init__(self, logits):\n",
    "        #logits = logits/logits.sum(-1, keepdim=True)\n",
    "        super().__init__(logits=logits)\n",
    "        self.params = logits\n",
    "\n",
    "\n",
    "class GaussianMixture(D.MixtureSameFamily):\n",
    "    def __init__(self, params):\n",
    "        if len(params.shape) == 2:\n",
    "            params = einops.rearrange(\n",
    "                params, \"... (n_mix n_params) -> ... n_mix n_params\", n_params=3\n",
    "            )\n",
    "        self.params = params\n",
    "        mix = D.Categorical(params[..., 2])\n",
    "        gammas = D.Normal(params[..., 0], params[..., 1])\n",
    "        super().__init__(mix, gammas)\n",
    "\n",
    "    def sample(self, *args, **kwargs):\n",
    "        samples = super().sample(*args, **kwargs)\n",
    "        return torch.round(samples)\n"
   ]
  },
  {
   "cell_type": "code",
   "execution_count": 4,
   "metadata": {},
   "outputs": [],
   "source": [
    "def plot_distributions(\n",
    "    file, params_list, samples, xrange, distribution_labels, diff, diff_min\n",
    "):\n",
    "\n",
    "    with PdfPages(file) as pdf:\n",
    "        fig, ax = plt.subplots(figsize=(6, 4))\n",
    "        for params, distribution_label in zip(params_list, distribution_labels):\n",
    "            if distribution_label == \"GammaMixture\":\n",
    "                distribution = GammaMixture\n",
    "                label = r\"$5 \\Gamma$ Mixture\"\n",
    "            elif distribution_label == \"GaussianMixture\":\n",
    "                distribution = GaussianMixture\n",
    "                label = r\"$5 \\mathcal{N}$ Mixture\"\n",
    "            elif distribution_label == \"Categorical\":\n",
    "                distribution = CategoricalDistribution\n",
    "                label = \"Categorical\"\n",
    "            \n",
    "            if distribution == CategoricalDistribution:\n",
    "                bins = np.arange(xrange[0], xrange[1] + 1)\n",
    "                if diff:\n",
    "                    ax.step(\n",
    "                        bins,\n",
    "                        params[bins - diff_min] / params.sum(),\n",
    "                        label=label,\n",
    "                    )\n",
    "                else:\n",
    "                    ax.step(\n",
    "                        bins,\n",
    "                        params[bins] / params.sum(),\n",
    "                        label=label,\n",
    "                    )\n",
    "            else:\n",
    "                x = torch.linspace(xrange[0], xrange[1], 1000).reshape(-1, 1)\n",
    "                dist = distribution(params.unsqueeze(0))\n",
    "                density = dist.log_prob(x).exp().detach().numpy()\n",
    "                ax.plot(x, density, label=label)\n",
    "        if diff:\n",
    "            ax.axvline(\n",
    "                samples[1] - samples[2],\n",
    "                c=colors[1],\n",
    "                label=\"Truth\",\n",
    "                linestyle=\"dashed\",\n",
    "            )\n",
    "        else:\n",
    "            ax.axvline(\n",
    "                samples[1],\n",
    "                c=colors[1],\n",
    "                label=\"Particle-level\\nmultiplicity\",\n",
    "                linestyle=\"dashed\",\n",
    "            )\n",
    "            ax.axvline(\n",
    "                samples[2],\n",
    "                c=colors[2],\n",
    "                label=\"Detector-level\\nmultiplicity\",\n",
    "                linestyle=\"dashed\",\n",
    "            )\n",
    "        ax.legend(loc=\"upper right\", frameon=False, fontsize=FONTSIZE_LEGEND)\n",
    "        ax.set_xlim(xrange)\n",
    "        ax.set_xlabel(\"Multiplicity\", fontsize=FONTSIZE)\n",
    "        ax.set_ylabel(\"Probability\", fontsize=FONTSIZE)\n",
    "        ax.set_ylim((0, 0.15))\n",
    "        pdf.savefig(fig, bbox_inches=\"tight\")"
   ]
  },
  {
   "cell_type": "code",
   "execution_count": 4,
   "metadata": {},
   "outputs": [
    {
     "ename": "FileNotFoundError",
     "evalue": "[Errno 2] No such file or directory: 'notebooks/mult/tensors/samples_5gau.pt'",
     "output_type": "error",
     "traceback": [
      "\u001b[0;31m---------------------------------------------------------------------------\u001b[0m",
      "\u001b[0;31mFileNotFoundError\u001b[0m                         Traceback (most recent call last)",
      "Cell \u001b[0;32mIn[4], line 4\u001b[0m\n\u001b[1;32m      2\u001b[0m params_5gam \u001b[38;5;241m=\u001b[39m torch\u001b[38;5;241m.\u001b[39mload(\u001b[38;5;124m'\u001b[39m\u001b[38;5;124mnotebooks/mult/tensors/params_5gam.pt\u001b[39m\u001b[38;5;124m'\u001b[39m)\n\u001b[1;32m      3\u001b[0m params_cat \u001b[38;5;241m=\u001b[39m torch\u001b[38;5;241m.\u001b[39mload(\u001b[38;5;124m'\u001b[39m\u001b[38;5;124mnotebooks/mult/tensors/params_cat.pt\u001b[39m\u001b[38;5;124m'\u001b[39m)\n\u001b[0;32m----> 4\u001b[0m samples \u001b[38;5;241m=\u001b[39m \u001b[43mtorch\u001b[49m\u001b[38;5;241;43m.\u001b[39;49m\u001b[43mload\u001b[49m\u001b[43m(\u001b[49m\u001b[38;5;124;43m'\u001b[39;49m\u001b[38;5;124;43mnotebooks/mult/tensors/samples_5gau.pt\u001b[39;49m\u001b[38;5;124;43m'\u001b[39;49m\u001b[43m)\u001b[49m\n",
      "File \u001b[0;32m/remote/gpu04/petitjean/high-dim-unfolding/venv/lib/python3.11/site-packages/torch/serialization.py:1479\u001b[0m, in \u001b[0;36mload\u001b[0;34m(f, map_location, pickle_module, weights_only, mmap, **pickle_load_args)\u001b[0m\n\u001b[1;32m   1476\u001b[0m \u001b[38;5;28;01mif\u001b[39;00m \u001b[38;5;124m\"\u001b[39m\u001b[38;5;124mencoding\u001b[39m\u001b[38;5;124m\"\u001b[39m \u001b[38;5;129;01mnot\u001b[39;00m \u001b[38;5;129;01min\u001b[39;00m pickle_load_args\u001b[38;5;241m.\u001b[39mkeys():\n\u001b[1;32m   1477\u001b[0m     pickle_load_args[\u001b[38;5;124m\"\u001b[39m\u001b[38;5;124mencoding\u001b[39m\u001b[38;5;124m\"\u001b[39m] \u001b[38;5;241m=\u001b[39m \u001b[38;5;124m\"\u001b[39m\u001b[38;5;124mutf-8\u001b[39m\u001b[38;5;124m\"\u001b[39m\n\u001b[0;32m-> 1479\u001b[0m \u001b[38;5;28;01mwith\u001b[39;00m \u001b[43m_open_file_like\u001b[49m\u001b[43m(\u001b[49m\u001b[43mf\u001b[49m\u001b[43m,\u001b[49m\u001b[43m \u001b[49m\u001b[38;5;124;43m\"\u001b[39;49m\u001b[38;5;124;43mrb\u001b[39;49m\u001b[38;5;124;43m\"\u001b[39;49m\u001b[43m)\u001b[49m \u001b[38;5;28;01mas\u001b[39;00m opened_file:\n\u001b[1;32m   1480\u001b[0m     \u001b[38;5;28;01mif\u001b[39;00m _is_zipfile(opened_file):\n\u001b[1;32m   1481\u001b[0m         \u001b[38;5;66;03m# The zipfile reader is going to advance the current file position.\u001b[39;00m\n\u001b[1;32m   1482\u001b[0m         \u001b[38;5;66;03m# If we want to actually tail call to torch.jit.load, we need to\u001b[39;00m\n\u001b[1;32m   1483\u001b[0m         \u001b[38;5;66;03m# reset back to the original position.\u001b[39;00m\n\u001b[1;32m   1484\u001b[0m         orig_position \u001b[38;5;241m=\u001b[39m opened_file\u001b[38;5;241m.\u001b[39mtell()\n",
      "File \u001b[0;32m/remote/gpu04/petitjean/high-dim-unfolding/venv/lib/python3.11/site-packages/torch/serialization.py:759\u001b[0m, in \u001b[0;36m_open_file_like\u001b[0;34m(name_or_buffer, mode)\u001b[0m\n\u001b[1;32m    757\u001b[0m \u001b[38;5;28;01mdef\u001b[39;00m\u001b[38;5;250m \u001b[39m\u001b[38;5;21m_open_file_like\u001b[39m(name_or_buffer: FileLike, mode: \u001b[38;5;28mstr\u001b[39m) \u001b[38;5;241m-\u001b[39m\u001b[38;5;241m>\u001b[39m _opener[IO[\u001b[38;5;28mbytes\u001b[39m]]:\n\u001b[1;32m    758\u001b[0m     \u001b[38;5;28;01mif\u001b[39;00m _is_path(name_or_buffer):\n\u001b[0;32m--> 759\u001b[0m         \u001b[38;5;28;01mreturn\u001b[39;00m \u001b[43m_open_file\u001b[49m\u001b[43m(\u001b[49m\u001b[43mname_or_buffer\u001b[49m\u001b[43m,\u001b[49m\u001b[43m \u001b[49m\u001b[43mmode\u001b[49m\u001b[43m)\u001b[49m\n\u001b[1;32m    760\u001b[0m     \u001b[38;5;28;01melse\u001b[39;00m:\n\u001b[1;32m    761\u001b[0m         \u001b[38;5;28;01mif\u001b[39;00m \u001b[38;5;124m\"\u001b[39m\u001b[38;5;124mw\u001b[39m\u001b[38;5;124m\"\u001b[39m \u001b[38;5;129;01min\u001b[39;00m mode:\n",
      "File \u001b[0;32m/remote/gpu04/petitjean/high-dim-unfolding/venv/lib/python3.11/site-packages/torch/serialization.py:740\u001b[0m, in \u001b[0;36m_open_file.__init__\u001b[0;34m(self, name, mode)\u001b[0m\n\u001b[1;32m    739\u001b[0m \u001b[38;5;28;01mdef\u001b[39;00m\u001b[38;5;250m \u001b[39m\u001b[38;5;21m__init__\u001b[39m(\u001b[38;5;28mself\u001b[39m, name: Union[\u001b[38;5;28mstr\u001b[39m, os\u001b[38;5;241m.\u001b[39mPathLike[\u001b[38;5;28mstr\u001b[39m]], mode: \u001b[38;5;28mstr\u001b[39m) \u001b[38;5;241m-\u001b[39m\u001b[38;5;241m>\u001b[39m \u001b[38;5;28;01mNone\u001b[39;00m:\n\u001b[0;32m--> 740\u001b[0m     \u001b[38;5;28msuper\u001b[39m()\u001b[38;5;241m.\u001b[39m\u001b[38;5;21m__init__\u001b[39m(\u001b[38;5;28;43mopen\u001b[39;49m\u001b[43m(\u001b[49m\u001b[43mname\u001b[49m\u001b[43m,\u001b[49m\u001b[43m \u001b[49m\u001b[43mmode\u001b[49m\u001b[43m)\u001b[49m)\n",
      "\u001b[0;31mFileNotFoundError\u001b[0m: [Errno 2] No such file or directory: 'notebooks/mult/tensors/samples_5gau.pt'"
     ]
    }
   ],
   "source": [
    "params_5gau = torch.load('notebooks/mult/tensors/params_5gau.pt')\n",
    "params_5gam = torch.load('notebooks/mult/tensors/params_5gam.pt')\n",
    "params_cat = torch.load('notebooks/mult/tensors/params_cat.pt')\n",
    "samples = torch.load('notebooks/mult/tensors/samples_5gau.pt')"
   ]
  },
  {
   "cell_type": "code",
   "execution_count": null,
   "metadata": {},
   "outputs": [],
   "source": [
    "plot_distributions(\n",
    "    'plots/merge.pdf',\n",
    "    [params_5gau, params_5gam, params_cat],\n",
    "    samples,\n",
    "    [0,85],\n",
    "    ['GaussianMixture','GammaMixture','Categorical'],\n",
    "    diff=False,\n",
    "    diff_min=-53\n",
    ")"
   ]
  },
  {
   "cell_type": "code",
   "execution_count": 8,
   "metadata": {},
   "outputs": [
    {
     "data": {
      "text/plain": [
       "tensor([[[7.0955e+01, 1.1882e+01, 4.5400e-05],\n",
       "         [2.3536e+01, 2.4265e+00, 1.4841e+02],\n",
       "         [6.0538e-02, 7.9449e-03, 2.7473e-03],\n",
       "         [2.7460e+01, 3.1339e+00, 9.1186e+01],\n",
       "         [3.2440e+01, 1.0342e+01, 1.2114e+00]],\n",
       "\n",
       "        [[6.2216e+01, 1.0764e+01, 4.5400e-05],\n",
       "         [2.4576e+01, 2.4285e+00, 1.4841e+02],\n",
       "         [6.2013e-02, 8.2200e-03, 4.3108e-03],\n",
       "         [2.8493e+01, 3.1642e+00, 8.7768e+01],\n",
       "         [2.9804e+01, 9.7333e+00, 2.0526e+00]],\n",
       "\n",
       "        [[4.0553e+01, 5.8814e+00, 4.5400e-05],\n",
       "         [1.0924e+01, 1.7666e+00, 1.4841e+02],\n",
       "         [3.3057e-02, 5.7554e-03, 1.6181e-02],\n",
       "         [1.4150e+01, 2.3401e+00, 8.6422e+01],\n",
       "         [2.6995e+01, 9.0229e+00, 3.9281e-01]],\n",
       "\n",
       "        [[6.9681e+01, 1.1582e+01, 4.5400e-05],\n",
       "         [2.9818e+01, 2.8425e+00, 1.4841e+02],\n",
       "         [7.3280e-02, 1.0166e-02, 5.2047e-03],\n",
       "         [3.4117e+01, 3.5451e+00, 7.9720e+01],\n",
       "         [2.7456e+01, 9.4948e+00, 7.8072e+00]],\n",
       "\n",
       "        [[5.4677e+01, 9.0460e+00, 4.5400e-05],\n",
       "         [2.1806e+01, 2.2258e+00, 1.4841e+02],\n",
       "         [5.5810e-02, 7.4871e-03, 3.7030e-03],\n",
       "         [2.5391e+01, 3.0012e+00, 9.9396e+01],\n",
       "         [3.0189e+01, 9.5994e+00, 1.2273e+00]],\n",
       "\n",
       "        [[6.9166e+01, 1.1293e+01, 4.5400e-05],\n",
       "         [2.3094e+01, 2.4401e+00, 1.4841e+02],\n",
       "         [5.9241e-02, 8.2406e-03, 4.7574e-03],\n",
       "         [2.7119e+01, 3.2358e+00, 1.0221e+02],\n",
       "         [3.0212e+01, 1.0026e+01, 1.6808e+00]],\n",
       "\n",
       "        [[6.6492e+01, 9.9990e+00, 4.5400e-05],\n",
       "         [1.6731e+01, 2.2636e+00, 1.4841e+02],\n",
       "         [4.6086e-02, 6.9742e-03, 2.0686e-02],\n",
       "         [2.0829e+01, 2.6139e+00, 8.0184e+01],\n",
       "         [2.5458e+01, 9.8698e+00, 1.0187e+01]],\n",
       "\n",
       "        [[5.7492e+01, 8.6539e+00, 4.5400e-05],\n",
       "         [2.2192e+01, 3.1484e+00, 1.8283e-02],\n",
       "         [5.8272e-02, 1.1587e-02, 2.6333e-01],\n",
       "         [2.7267e+01, 4.0521e+00, 1.0293e+02],\n",
       "         [3.4244e+01, 1.0274e+01, 1.7803e+01]],\n",
       "\n",
       "        [[6.5888e+01, 1.0647e+01, 4.5400e-05],\n",
       "         [1.8818e+01, 2.3702e+00, 1.4841e+02],\n",
       "         [5.1588e-02, 7.6660e-03, 1.6607e-02],\n",
       "         [2.2891e+01, 2.8743e+00, 9.6328e+01],\n",
       "         [2.5949e+01, 9.8106e+00, 9.7323e+00]],\n",
       "\n",
       "        [[4.8056e+01, 7.6805e+00, 4.5400e-05],\n",
       "         [1.2758e+01, 2.0168e+00, 1.4841e+02],\n",
       "         [3.6893e-02, 6.1417e-03, 4.5515e-02],\n",
       "         [1.6199e+01, 2.3239e+00, 9.9325e+01],\n",
       "         [2.3827e+01, 9.3489e+00, 1.7388e+01]]])"
      ]
     },
     "execution_count": 8,
     "metadata": {},
     "output_type": "execute_result"
    }
   ],
   "source": [
    "params_5gau"
   ]
  },
  {
   "cell_type": "code",
   "execution_count": 5,
   "metadata": {},
   "outputs": [
    {
     "ename": "KeyboardInterrupt",
     "evalue": "",
     "output_type": "error",
     "traceback": [
      "\u001b[0;31m---------------------------------------------------------------------------\u001b[0m",
      "\u001b[0;31mKeyboardInterrupt\u001b[0m                         Traceback (most recent call last)",
      "\u001b[0;31mKeyboardInterrupt\u001b[0m: "
     ]
    }
   ],
   "source": [
    "params_5gau[:,2] = params_5gau[:,2]/params_5gau[:,2].sum()"
   ]
  },
  {
   "cell_type": "code",
   "execution_count": 54,
   "metadata": {},
   "outputs": [],
   "source": [
    "params_5gauD = torch.load('tensors/params_5gauD.pt')\n",
    "params_catD = torch.load('tensors/params_catD.pt')\n",
    "samples = torch.load('tensors/samples_5gauD.pt')"
   ]
  },
  {
   "cell_type": "code",
   "execution_count": 56,
   "metadata": {},
   "outputs": [
    {
     "data": {
      "image/png": "[encoded data removed]",
      "text/plain": [
       "<Figure size 600x400 with 1 Axes>"
      ]
     },
     "metadata": {},
     "output_type": "display_data"
    }
   ],
   "source": [
    "plot_distributions(\n",
    "    'plots/mergeD.pdf',\n",
    "    [params_5gauD, params_catD],\n",
    "    samples,\n",
    "    [-53,78],\n",
    "    ['GaussianMixture','Categorical'],\n",
    "    diff=True,\n",
    "    diff_min=-53\n",
    ")"
   ]
  },
  {
   "cell_type": "code",
   "execution_count": null,
   "metadata": {},
   "outputs": [],
   "source": []
  }
 ],
 "metadata": {
  "kernelspec": {
   "display_name": "Python 3 (ipykernel)",
   "language": "python",
   "name": "python3"
  },
  "language_info": {
   "codemirror_mode": {
    "name": "ipython",
    "version": 3
   },
   "file_extension": ".py",
   "mimetype": "text/x-python",
   "name": "python",
   "nbconvert_exporter": "python",
   "pygments_lexer": "ipython3",
   "version": "3.11.8"
  }
 },
 "nbformat": 4,
 "nbformat_minor": 4
}
